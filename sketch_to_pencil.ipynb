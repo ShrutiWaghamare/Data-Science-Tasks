{
 "cells": [
  {
   "cell_type": "code",
   "execution_count": 1,
   "metadata": {},
   "outputs": [
    {
     "data": {
      "text/plain": [
       "True"
      ]
     },
     "execution_count": 1,
     "metadata": {},
     "output_type": "execute_result"
    }
   ],
   "source": [
    "import cv2\n",
    "\n",
    "image=cv2.imread('dog.webp')\n",
    "\n",
    "gray_img=cv2.cvtColor(image, cv2.COLOR_BGR2GRAY)\n",
    "\n",
    "invert=cv2.bitwise_not(gray_img)\n",
    "\n",
    "blur=cv2.GaussianBlur(invert, (21,21),0)\n",
    "\n",
    "inverted_blur=cv2.bitwise_not(blur)\n",
    "\n",
    "sketch=cv2.divide(gray_img, inverted_blur, scale=256.0)\n",
    "\n",
    "cv2.imwrite('sketch.webp', sketch)"
   ]
  },
  {
   "cell_type": "code",
   "execution_count": null,
   "metadata": {},
   "outputs": [],
   "source": []
  }
 ],
 "metadata": {
  "kernelspec": {
   "display_name": "Python 3",
   "language": "python",
   "name": "python3"
  },
  "language_info": {
   "codemirror_mode": {
    "name": "ipython",
    "version": 3
   },
   "file_extension": ".py",
   "mimetype": "text/x-python",
   "name": "python",
   "nbconvert_exporter": "python",
   "pygments_lexer": "ipython3",
   "version": "3.11.4"
  }
 },
 "nbformat": 4,
 "nbformat_minor": 2
}
